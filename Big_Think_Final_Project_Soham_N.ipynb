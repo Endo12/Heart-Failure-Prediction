{
  "nbformat": 4,
  "nbformat_minor": 0,
  "metadata": {
    "colab": {
      "name": "Big Think Final Project Soham N",
      "provenance": [],
      "collapsed_sections": [],
      "include_colab_link": true
    },
    "kernelspec": {
      "name": "python3",
      "display_name": "Python 3"
    },
    "language_info": {
      "name": "python"
    }
  },
  "cells": [
    {
      "cell_type": "markdown",
      "metadata": {
        "id": "view-in-github",
        "colab_type": "text"
      },
      "source": [
        "<a href=\"https://colab.research.google.com/github/Endo12/Heart-Failutre-Prediction/blob/main/Big_Think_Final_Project_Soham_N.ipynb\" target=\"_parent\"><img src=\"https://colab.research.google.com/assets/colab-badge.svg\" alt=\"Open In Colab\"/></a>"
      ]
    },
    {
      "cell_type": "markdown",
      "source": [
        "# Machine Learning Methods for Predicting Heart Failure - Soham N\n",
        "### BigTh!nk AI Spring 2022\n",
        "Data from https://www.kaggle.com/datasets/andrewmvd/heart-failure-clinical-data?resource=download"
      ],
      "metadata": {
        "id": "bAg3gLd8talE"
      }
    },
    {
      "cell_type": "code",
      "execution_count": 22,
      "metadata": {
        "id": "VWUECYPnllIA"
      },
      "outputs": [],
      "source": [
        "import numpy as np\n",
        "import pandas as pd\n",
        "import matplotlib.pyplot as plt\n",
        "import seaborn as sns\n",
        "from scipy.stats import linregress as lr\n",
        "from sklearn.model_selection import train_test_split\n",
        "from imblearn.over_sampling import SMOTE\n",
        "from sklearn.ensemble import RandomForestClassifier\n",
        "from sklearn.tree import DecisionTreeClassifier"
      ]
    },
    {
      "cell_type": "markdown",
      "source": [
        "IMPORTANT: Please be sure to make your own copy of the notebook before running anything!"
      ],
      "metadata": {
        "id": "4_RYn4-t79b3"
      }
    },
    {
      "cell_type": "markdown",
      "source": [
        "# Data Collection\n",
        "In order to train a model, you first need data. Load in the requisite CSVs here."
      ],
      "metadata": {
        "id": "smniVY6_6aO8"
      }
    },
    {
      "cell_type": "code",
      "source": [
        "### DO NOT MODIFY THIS CELL ###\n",
        "!git clone https://github.com/BigThinkAI/spring2022-project-data.git\n",
        "\n",
        "TRAIN_CSV = '/content/spring2022-project-data/heart_failure_train.csv'\n",
        "TEST_CSV = '/content/spring2022-project-data/heart_failure_test.csv'"
      ],
      "metadata": {
        "colab": {
          "base_uri": "https://localhost:8080/"
        },
        "id": "8E1DNf8Ws4Ol",
        "outputId": "6d13eb11-fbce-4f2e-be9b-010e1bc2687b"
      },
      "execution_count": 23,
      "outputs": [
        {
          "output_type": "stream",
          "name": "stdout",
          "text": [
            "fatal: destination path 'spring2022-project-data' already exists and is not an empty directory.\n"
          ]
        }
      ]
    },
    {
      "cell_type": "code",
      "source": [
        "# Your code here\n",
        "data = pd.read_csv(TRAIN_CSV)\n",
        "valid = pd.read_csv(TEST_CSV)"
      ],
      "metadata": {
        "id": "U7ubeqQftCmC"
      },
      "execution_count": 24,
      "outputs": []
    },
    {
      "cell_type": "markdown",
      "source": [
        "# Feature Engineering\n",
        "In this part, you want to explore the data your given and see what features you can extract that will be useful for prediction."
      ],
      "metadata": {
        "id": "wN7SmmcE6Epa"
      }
    },
    {
      "cell_type": "code",
      "source": [
        "# Your code here\n",
        "data = data.rename(columns={'Unnamed: 0':'id'})\n",
        "data.head()"
      ],
      "metadata": {
        "id": "d9cF-gH66TtP",
        "colab": {
          "base_uri": "https://localhost:8080/",
          "height": 270
        },
        "outputId": "8ee8916a-8502-4f66-90ac-9d150a3e220c"
      },
      "execution_count": 25,
      "outputs": [
        {
          "output_type": "execute_result",
          "data": {
            "text/plain": [
              "   id   age  anaemia  creatinine_phosphokinase  diabetes  ejection_fraction  \\\n",
              "0   0  85.0        0                       212         0                 38   \n",
              "1   1  52.0        0                      3966         0                 40   \n",
              "2   2  45.0        0                       308         1                 60   \n",
              "3   3  55.0        0                        66         0                 40   \n",
              "4   4  60.0        0                      1896         1                 25   \n",
              "\n",
              "   high_blood_pressure  platelets  serum_creatinine  serum_sodium  sex  \\\n",
              "0                    0   186000.0               0.9           136    1   \n",
              "1                    0   325000.0               0.9           140    1   \n",
              "2                    1   377000.0               1.0           136    1   \n",
              "3                    0   203000.0               1.0           138    1   \n",
              "4                    0   365000.0               2.1           144    0   \n",
              "\n",
              "   smoking  time  DEATH_EVENT  \n",
              "0        0   187            0  \n",
              "1        1   146            0  \n",
              "2        0   186            0  \n",
              "3        0   233            0  \n",
              "4        0   172            1  "
            ],
            "text/html": [
              "\n",
              "  <div id=\"df-2e2b616f-9fcb-4b18-8ba1-6892b59b7718\">\n",
              "    <div class=\"colab-df-container\">\n",
              "      <div>\n",
              "<style scoped>\n",
              "    .dataframe tbody tr th:only-of-type {\n",
              "        vertical-align: middle;\n",
              "    }\n",
              "\n",
              "    .dataframe tbody tr th {\n",
              "        vertical-align: top;\n",
              "    }\n",
              "\n",
              "    .dataframe thead th {\n",
              "        text-align: right;\n",
              "    }\n",
              "</style>\n",
              "<table border=\"1\" class=\"dataframe\">\n",
              "  <thead>\n",
              "    <tr style=\"text-align: right;\">\n",
              "      <th></th>\n",
              "      <th>id</th>\n",
              "      <th>age</th>\n",
              "      <th>anaemia</th>\n",
              "      <th>creatinine_phosphokinase</th>\n",
              "      <th>diabetes</th>\n",
              "      <th>ejection_fraction</th>\n",
              "      <th>high_blood_pressure</th>\n",
              "      <th>platelets</th>\n",
              "      <th>serum_creatinine</th>\n",
              "      <th>serum_sodium</th>\n",
              "      <th>sex</th>\n",
              "      <th>smoking</th>\n",
              "      <th>time</th>\n",
              "      <th>DEATH_EVENT</th>\n",
              "    </tr>\n",
              "  </thead>\n",
              "  <tbody>\n",
              "    <tr>\n",
              "      <th>0</th>\n",
              "      <td>0</td>\n",
              "      <td>85.0</td>\n",
              "      <td>0</td>\n",
              "      <td>212</td>\n",
              "      <td>0</td>\n",
              "      <td>38</td>\n",
              "      <td>0</td>\n",
              "      <td>186000.0</td>\n",
              "      <td>0.9</td>\n",
              "      <td>136</td>\n",
              "      <td>1</td>\n",
              "      <td>0</td>\n",
              "      <td>187</td>\n",
              "      <td>0</td>\n",
              "    </tr>\n",
              "    <tr>\n",
              "      <th>1</th>\n",
              "      <td>1</td>\n",
              "      <td>52.0</td>\n",
              "      <td>0</td>\n",
              "      <td>3966</td>\n",
              "      <td>0</td>\n",
              "      <td>40</td>\n",
              "      <td>0</td>\n",
              "      <td>325000.0</td>\n",
              "      <td>0.9</td>\n",
              "      <td>140</td>\n",
              "      <td>1</td>\n",
              "      <td>1</td>\n",
              "      <td>146</td>\n",
              "      <td>0</td>\n",
              "    </tr>\n",
              "    <tr>\n",
              "      <th>2</th>\n",
              "      <td>2</td>\n",
              "      <td>45.0</td>\n",
              "      <td>0</td>\n",
              "      <td>308</td>\n",
              "      <td>1</td>\n",
              "      <td>60</td>\n",
              "      <td>1</td>\n",
              "      <td>377000.0</td>\n",
              "      <td>1.0</td>\n",
              "      <td>136</td>\n",
              "      <td>1</td>\n",
              "      <td>0</td>\n",
              "      <td>186</td>\n",
              "      <td>0</td>\n",
              "    </tr>\n",
              "    <tr>\n",
              "      <th>3</th>\n",
              "      <td>3</td>\n",
              "      <td>55.0</td>\n",
              "      <td>0</td>\n",
              "      <td>66</td>\n",
              "      <td>0</td>\n",
              "      <td>40</td>\n",
              "      <td>0</td>\n",
              "      <td>203000.0</td>\n",
              "      <td>1.0</td>\n",
              "      <td>138</td>\n",
              "      <td>1</td>\n",
              "      <td>0</td>\n",
              "      <td>233</td>\n",
              "      <td>0</td>\n",
              "    </tr>\n",
              "    <tr>\n",
              "      <th>4</th>\n",
              "      <td>4</td>\n",
              "      <td>60.0</td>\n",
              "      <td>0</td>\n",
              "      <td>1896</td>\n",
              "      <td>1</td>\n",
              "      <td>25</td>\n",
              "      <td>0</td>\n",
              "      <td>365000.0</td>\n",
              "      <td>2.1</td>\n",
              "      <td>144</td>\n",
              "      <td>0</td>\n",
              "      <td>0</td>\n",
              "      <td>172</td>\n",
              "      <td>1</td>\n",
              "    </tr>\n",
              "  </tbody>\n",
              "</table>\n",
              "</div>\n",
              "      <button class=\"colab-df-convert\" onclick=\"convertToInteractive('df-2e2b616f-9fcb-4b18-8ba1-6892b59b7718')\"\n",
              "              title=\"Convert this dataframe to an interactive table.\"\n",
              "              style=\"display:none;\">\n",
              "        \n",
              "  <svg xmlns=\"http://www.w3.org/2000/svg\" height=\"24px\"viewBox=\"0 0 24 24\"\n",
              "       width=\"24px\">\n",
              "    <path d=\"M0 0h24v24H0V0z\" fill=\"none\"/>\n",
              "    <path d=\"M18.56 5.44l.94 2.06.94-2.06 2.06-.94-2.06-.94-.94-2.06-.94 2.06-2.06.94zm-11 1L8.5 8.5l.94-2.06 2.06-.94-2.06-.94L8.5 2.5l-.94 2.06-2.06.94zm10 10l.94 2.06.94-2.06 2.06-.94-2.06-.94-.94-2.06-.94 2.06-2.06.94z\"/><path d=\"M17.41 7.96l-1.37-1.37c-.4-.4-.92-.59-1.43-.59-.52 0-1.04.2-1.43.59L10.3 9.45l-7.72 7.72c-.78.78-.78 2.05 0 2.83L4 21.41c.39.39.9.59 1.41.59.51 0 1.02-.2 1.41-.59l7.78-7.78 2.81-2.81c.8-.78.8-2.07 0-2.86zM5.41 20L4 18.59l7.72-7.72 1.47 1.35L5.41 20z\"/>\n",
              "  </svg>\n",
              "      </button>\n",
              "      \n",
              "  <style>\n",
              "    .colab-df-container {\n",
              "      display:flex;\n",
              "      flex-wrap:wrap;\n",
              "      gap: 12px;\n",
              "    }\n",
              "\n",
              "    .colab-df-convert {\n",
              "      background-color: #E8F0FE;\n",
              "      border: none;\n",
              "      border-radius: 50%;\n",
              "      cursor: pointer;\n",
              "      display: none;\n",
              "      fill: #1967D2;\n",
              "      height: 32px;\n",
              "      padding: 0 0 0 0;\n",
              "      width: 32px;\n",
              "    }\n",
              "\n",
              "    .colab-df-convert:hover {\n",
              "      background-color: #E2EBFA;\n",
              "      box-shadow: 0px 1px 2px rgba(60, 64, 67, 0.3), 0px 1px 3px 1px rgba(60, 64, 67, 0.15);\n",
              "      fill: #174EA6;\n",
              "    }\n",
              "\n",
              "    [theme=dark] .colab-df-convert {\n",
              "      background-color: #3B4455;\n",
              "      fill: #D2E3FC;\n",
              "    }\n",
              "\n",
              "    [theme=dark] .colab-df-convert:hover {\n",
              "      background-color: #434B5C;\n",
              "      box-shadow: 0px 1px 3px 1px rgba(0, 0, 0, 0.15);\n",
              "      filter: drop-shadow(0px 1px 2px rgba(0, 0, 0, 0.3));\n",
              "      fill: #FFFFFF;\n",
              "    }\n",
              "  </style>\n",
              "\n",
              "      <script>\n",
              "        const buttonEl =\n",
              "          document.querySelector('#df-2e2b616f-9fcb-4b18-8ba1-6892b59b7718 button.colab-df-convert');\n",
              "        buttonEl.style.display =\n",
              "          google.colab.kernel.accessAllowed ? 'block' : 'none';\n",
              "\n",
              "        async function convertToInteractive(key) {\n",
              "          const element = document.querySelector('#df-2e2b616f-9fcb-4b18-8ba1-6892b59b7718');\n",
              "          const dataTable =\n",
              "            await google.colab.kernel.invokeFunction('convertToInteractive',\n",
              "                                                     [key], {});\n",
              "          if (!dataTable) return;\n",
              "\n",
              "          const docLinkHtml = 'Like what you see? Visit the ' +\n",
              "            '<a target=\"_blank\" href=https://colab.research.google.com/notebooks/data_table.ipynb>data table notebook</a>'\n",
              "            + ' to learn more about interactive tables.';\n",
              "          element.innerHTML = '';\n",
              "          dataTable['output_type'] = 'display_data';\n",
              "          await google.colab.output.renderOutput(dataTable, element);\n",
              "          const docLink = document.createElement('div');\n",
              "          docLink.innerHTML = docLinkHtml;\n",
              "          element.appendChild(docLink);\n",
              "        }\n",
              "      </script>\n",
              "    </div>\n",
              "  </div>\n",
              "  "
            ]
          },
          "metadata": {},
          "execution_count": 25
        }
      ]
    },
    {
      "cell_type": "markdown",
      "source": [
        "Here, we check the correlation between all the variables. Notice that id and time, in particular, are bad at predicting death."
      ],
      "metadata": {
        "id": "1RHSXBTv8MjQ"
      }
    },
    {
      "cell_type": "code",
      "source": [
        "corr = data.corr()\n",
        "sns.heatmap(corr, \n",
        "        xticklabels=corr.columns,\n",
        "        yticklabels=corr.columns)"
      ],
      "metadata": {
        "colab": {
          "base_uri": "https://localhost:8080/",
          "height": 407
        },
        "id": "hQPkFFKrpqeY",
        "outputId": "3bacea0a-ba30-4139-f31f-0887b9e9560f"
      },
      "execution_count": 26,
      "outputs": [
        {
          "output_type": "execute_result",
          "data": {
            "text/plain": [
              "<matplotlib.axes._subplots.AxesSubplot at 0x7fa587ed7090>"
            ]
          },
          "metadata": {},
          "execution_count": 26
        },
        {
          "output_type": "display_data",
          "data": {
            "text/plain": [
              "<Figure size 432x288 with 2 Axes>"
            ],
            "image/png": "[encoded data removed]"
          },
          "metadata": {
            "needs_background": "light"
          }
        }
      ]
    },
    {
      "cell_type": "markdown",
      "source": [
        "But first let's check our dependent variable. Here, we notice that we have more than double the samples for no death as opposed to death. This is important, as it means we have unbalanced sampling. We will have to correct this later on."
      ],
      "metadata": {
        "id": "z3U6EkrZ8Wf6"
      }
    },
    {
      "cell_type": "code",
      "source": [
        "data['DEATH_EVENT'].value_counts().plot(kind='bar', title=\"Death Event Dist\", ylabel=\"Freq\", xlabel=\"Death?\")"
      ],
      "metadata": {
        "colab": {
          "base_uri": "https://localhost:8080/",
          "height": 310
        },
        "id": "TdIgKTRVnv5y",
        "outputId": "2be55035-4667-450d-e66b-ba579c71c6bb"
      },
      "execution_count": 27,
      "outputs": [
        {
          "output_type": "execute_result",
          "data": {
            "text/plain": [
              "<matplotlib.axes._subplots.AxesSubplot at 0x7fa587db6b50>"
            ]
          },
          "metadata": {},
          "execution_count": 27
        },
        {
          "output_type": "display_data",
          "data": {
            "text/plain": [
              "<Figure size 432x288 with 1 Axes>"
            ],
            "image/png": "[encoded data removed]"
          },
          "metadata": {
            "needs_background": "light"
          }
        }
      ]
    },
    {
      "cell_type": "markdown",
      "source": [
        "Now let's start checking the variables from above. First, plotting id by Death reveals that id is a terrible predictor of death. This makes sense, as unique identification for our benefit has nothing to do with observed variables. We'll have to remember to remove this variable when analyzing."
      ],
      "metadata": {
        "id": "Uoh4UHVD8pPU"
      }
    },
    {
      "cell_type": "code",
      "source": [
        "data.plot.scatter(y='DEATH_EVENT', x=\"id\", title=\"ID vs Death\")\n",
        "\n",
        "m,_,r,p,_ = lr(data[\"id\"], data[\"DEATH_EVENT\"])\n",
        "print(\"Slope = \", m, \"\\nR^2 = \", r**2, \"\\nP Val = \", p)"
      ],
      "metadata": {
        "colab": {
          "base_uri": "https://localhost:8080/",
          "height": 349
        },
        "id": "sIvEpIN8qGSB",
        "outputId": "ad319b4f-043f-40ac-ae3b-4eadd04b77f7"
      },
      "execution_count": 28,
      "outputs": [
        {
          "output_type": "stream",
          "name": "stdout",
          "text": [
            "Slope =  -0.00018856065367693276 \n",
            "R^2 =  0.0009586251178843021 \n",
            "P Val =  0.6199016792441308\n"
          ]
        },
        {
          "output_type": "display_data",
          "data": {
            "text/plain": [
              "<Figure size 432x288 with 1 Axes>"
            ],
            "image/png": "[encoded data removed]"
          },
          "metadata": {
            "needs_background": "light"
          }
        }
      ]
    },
    {
      "cell_type": "markdown",
      "source": [
        "Let's also check ejection fraction just to be safe. Indeed, this is also a terrible predictor of death, so let's get rid of this one too."
      ],
      "metadata": {
        "id": "vMIlX1IU828r"
      }
    },
    {
      "cell_type": "code",
      "source": [
        "data.plot.scatter(y='DEATH_EVENT', x=\"ejection_fraction\", title=\"Ejection Fraction vs Death\")\n",
        "\n",
        "m,_,r,p,_ = lr(data[\"id\"], data[\"DEATH_EVENT\"])\n",
        "print(\"Slope = \", m, \"\\nR^2 = \", r**2, \"\\nP Val = \", p)"
      ],
      "metadata": {
        "colab": {
          "base_uri": "https://localhost:8080/",
          "height": 350
        },
        "id": "wnS46armqdgX",
        "outputId": "79dbc0bd-9a72-4258-f631-c1aa33167749"
      },
      "execution_count": 29,
      "outputs": [
        {
          "output_type": "stream",
          "name": "stdout",
          "text": [
            "Slope =  -0.00018856065367693276 \n",
            "R^2 =  0.0009586251178843021 \n",
            "P Val =  0.6199016792441308\n"
          ]
        },
        {
          "output_type": "display_data",
          "data": {
            "text/plain": [
              "<Figure size 432x288 with 1 Axes>"
            ],
            "image/png": "[encoded data removed]"
          },
          "metadata": {
            "needs_background": "light"
          }
        }
      ]
    },
    {
      "cell_type": "markdown",
      "source": [
        "# Model Selection\n",
        "Pick a model, whichever you choose! Train it up and see how it runs."
      ],
      "metadata": {
        "id": "03tiPE_F6u_a"
      }
    },
    {
      "cell_type": "markdown",
      "source": [
        "First, let's remove our dependent var and the bad predictors from earlier from our list of cols for the predictor data."
      ],
      "metadata": {
        "id": "mI4XG1bz9BEZ"
      }
    },
    {
      "cell_type": "code",
      "source": [
        "x_cols = list(data.columns)\n",
        "x_cols.remove('DEATH_EVENT')\n",
        "x_cols.remove('ejection_fraction')\n",
        "x_cols.remove('id')"
      ],
      "metadata": {
        "id": "RLEcdWHEvlqu"
      },
      "execution_count": 30,
      "outputs": []
    },
    {
      "cell_type": "markdown",
      "source": [
        "Next, we split our train and test data."
      ],
      "metadata": {
        "id": "76faNpnp9Lod"
      }
    },
    {
      "cell_type": "code",
      "source": [
        "# Your code here\n",
        "train, test = train_test_split(data, test_size=0.2)"
      ],
      "metadata": {
        "id": "7G4LduUU6462"
      },
      "execution_count": 31,
      "outputs": []
    },
    {
      "cell_type": "markdown",
      "source": [
        "Now we split the train and test data based on x and y, and convert everything to numpy arrays"
      ],
      "metadata": {
        "id": "Iym_5EJ99OR0"
      }
    },
    {
      "cell_type": "code",
      "source": [
        "x_train = train[x_cols].to_numpy()\n",
        "y_train = train[['DEATH_EVENT']].to_numpy()\n",
        "x_test = test[x_cols].to_numpy()\n",
        "y_test = test[['DEATH_EVENT']].to_numpy()"
      ],
      "metadata": {
        "id": "G1a86xaNw-UN"
      },
      "execution_count": 32,
      "outputs": []
    },
    {
      "cell_type": "markdown",
      "source": [
        "We will now use an oversampling technique called SMOTE to create more data for our training set. This will correct the category imbalance we saw earlier."
      ],
      "metadata": {
        "id": "ugkwzy909UQU"
      }
    },
    {
      "cell_type": "code",
      "source": [
        "smote = SMOTE()\n",
        "x_train, y_train = smote.fit_resample(x_train, y_train)"
      ],
      "metadata": {
        "id": "mUSFCjn6vXDG"
      },
      "execution_count": 33,
      "outputs": []
    },
    {
      "cell_type": "markdown",
      "source": [
        "We will use a Random Forest Classifier to train our model."
      ],
      "metadata": {
        "id": "gtG9uLKH9emH"
      }
    },
    {
      "cell_type": "code",
      "source": [
        "from sklearn.pipeline import make_pipeline\n",
        "from sklearn.preprocessing import StandardScaler\n",
        "from sklearn.svm import SVC\n",
        "model = make_pipeline(StandardScaler(with_mean=False), SVC(kernel='sigmoid', probability=True, class_weight='balanced', decision_function_shape='ovo'))\n",
        "\n",
        "#model = DecisionTreeClassifier(max_depth=11)\n",
        "model.fit(x_train, y_train)"
      ],
      "metadata": {
        "colab": {
          "base_uri": "https://localhost:8080/"
        },
        "id": "nl--2hXdw65X",
        "outputId": "1c0a2f18-cdce-4730-d08a-a7ce4f273397"
      },
      "execution_count": 34,
      "outputs": [
        {
          "output_type": "execute_result",
          "data": {
            "text/plain": [
              "Pipeline(steps=[('standardscaler', StandardScaler(with_mean=False)),\n",
              "                ('svc',\n",
              "                 SVC(class_weight='balanced', decision_function_shape='ovo',\n",
              "                     kernel='sigmoid', probability=True))])"
            ]
          },
          "metadata": {},
          "execution_count": 34
        }
      ]
    },
    {
      "cell_type": "code",
      "source": [
        "y_pred = model.predict(x_test)"
      ],
      "metadata": {
        "id": "l0iTCHq5dDc-"
      },
      "execution_count": 35,
      "outputs": []
    },
    {
      "cell_type": "markdown",
      "source": [
        "# Testing Your Model\n",
        "While we're assessing you specifically on the trace of your confusion matrix, you're still required to present your methodology. With that in mind, do not hesitate to use a variety of metrics to justify your choices."
      ],
      "metadata": {
        "id": "Z8qWV-jl5p34"
      }
    },
    {
      "cell_type": "code",
      "source": [
        "### DO NOT MODIFY THIS CELL ###\n",
        "\n",
        "import seaborn as sns\n",
        "from sklearn.metrics import confusion_matrix\n",
        "\n",
        "def plot_confmat(true_labels, pred_labels):\n",
        "  \"\"\"\n",
        "  Plots a confusion matrix from given data and returns its trace\n",
        "  \"\"\"\n",
        "  fig2, ax = plt.subplots(1, 1, num=2, figsize=(10, 10))\n",
        "\n",
        "  cm = confusion_matrix(true_labels, pred_labels)\n",
        "  cm_norm = cm.astype('float') / cm.sum(axis=1)[:, np.newaxis]  # normalize the confusion matrix\n",
        "  for pair in np.argwhere(np.isnan(cm_norm)):\n",
        "    cm_norm[pair[0]][pair[1]] = 0\n",
        "  cm_score = np.trace(cm_norm)\n",
        "\n",
        "  annot = np.zeros_like(cm, dtype=object)\n",
        "  for i in range(annot.shape[0]):  # Creates an annotation array for the heatmap\n",
        "    for j in range(annot.shape[1]):\n",
        "      annot[i][j] = f'{cm[i][j]}\\n{round(cm_norm[i][j] * 100, ndigits=3)}%'\n",
        "\n",
        "  ax = sns.heatmap(cm_norm, annot=annot, fmt='', cbar=True, cmap=plt.cm.magma, vmin=0, ax=ax) # plot the confusion matrix\n",
        "\n",
        "  ax.set(title=f'CM Score = {cm_score}', xlabel='Predicted Label', ylabel='Actual Label')\n",
        "\n",
        "  fig2.tight_layout()\n",
        "\n",
        "  return cm_score"
      ],
      "metadata": {
        "id": "dtFLh1_t5ti0"
      },
      "execution_count": 36,
      "outputs": []
    },
    {
      "cell_type": "code",
      "source": [
        "# Your code here\n",
        "from sklearn.metrics import *\n",
        "\n",
        "print(classification_report(y_test, y_pred))"
      ],
      "metadata": {
        "id": "Bs5Hy0FZ6Adr",
        "colab": {
          "base_uri": "https://localhost:8080/"
        },
        "outputId": "c057f64f-4561-4e0c-bf7d-2cf247b7a3c6"
      },
      "execution_count": 37,
      "outputs": [
        {
          "output_type": "stream",
          "name": "stdout",
          "text": [
            "              precision    recall  f1-score   support\n",
            "\n",
            "           0       0.88      0.93      0.90        41\n",
            "           1       0.67      0.55      0.60        11\n",
            "\n",
            "    accuracy                           0.85        52\n",
            "   macro avg       0.78      0.74      0.75        52\n",
            "weighted avg       0.84      0.85      0.84        52\n",
            "\n"
          ]
        }
      ]
    },
    {
      "cell_type": "code",
      "source": [
        "plot_confmat(y_test, y_pred)"
      ],
      "metadata": {
        "colab": {
          "base_uri": "https://localhost:8080/",
          "height": 747
        },
        "id": "YmYpH1qufRB5",
        "outputId": "70a6765e-14ce-43f7-9bd1-04ea33702c53"
      },
      "execution_count": 38,
      "outputs": [
        {
          "output_type": "execute_result",
          "data": {
            "text/plain": [
              "1.4722838137472283"
            ]
          },
          "metadata": {},
          "execution_count": 38
        },
        {
          "output_type": "display_data",
          "data": {
            "text/plain": [
              "<Figure size 720x720 with 2 Axes>"
            ],
            "image/png": "[encoded data removed]"
          },
          "metadata": {
            "needs_background": "light"
          }
        }
      ]
    },
    {
      "cell_type": "code",
      "source": [
        "x_valid = valid[x_cols].to_numpy()\n",
        "y_vactual = valid[['DEATH_EVENT']].to_numpy()\n",
        "y_vpred = model.predict(x_valid)\n",
        "print(classification_report(y_vactual, y_vpred, zero_division=1))"
      ],
      "metadata": {
        "colab": {
          "base_uri": "https://localhost:8080/"
        },
        "id": "sBdYvfo57z79",
        "outputId": "a2fc5086-5f5a-4c05-917f-44d006778d23"
      },
      "execution_count": 39,
      "outputs": [
        {
          "output_type": "stream",
          "name": "stdout",
          "text": [
            "              precision    recall  f1-score   support\n",
            "\n",
            "           0       0.82      0.45      0.58        20\n",
            "           1       0.62      0.90      0.73        20\n",
            "\n",
            "    accuracy                           0.68        40\n",
            "   macro avg       0.72      0.68      0.66        40\n",
            "weighted avg       0.72      0.68      0.66        40\n",
            "\n"
          ]
        }
      ]
    },
    {
      "cell_type": "code",
      "source": [
        "plot_confmat(y_vactual, y_vpred)"
      ],
      "metadata": {
        "colab": {
          "base_uri": "https://localhost:8080/",
          "height": 747
        },
        "id": "43PK_gF88LPJ",
        "outputId": "df725c20-c410-46a2-df6c-e709a393ad02"
      },
      "execution_count": 40,
      "outputs": [
        {
          "output_type": "execute_result",
          "data": {
            "text/plain": [
              "1.35"
            ]
          },
          "metadata": {},
          "execution_count": 40
        },
        {
          "output_type": "display_data",
          "data": {
            "text/plain": [
              "<Figure size 720x720 with 2 Axes>"
            ],
            "image/png": "[encoded data removed]"
          },
          "metadata": {
            "needs_background": "light"
          }
        }
      ]
    },
    {
      "cell_type": "markdown",
      "source": [
        "# Submission\n",
        "Once you've made a final model that you're happy with, please save it out with the following function. You will then upload this notebook (as an ```.ipynb``` file) and the saved model file using [this form](https://forms.gle/aZudRC8t1e5ffqcPA).\n",
        "\n",
        "NOTE: You only get one submission per team, so make sure that you're happy with everything before you submit the model. Also, while we'll take submissions that aren't pickle files (i.e. if you use a neural net or something), you have to figure out how to save it on your own."
      ],
      "metadata": {
        "id": "MQk4Wzw_t5iJ"
      }
    },
    {
      "cell_type": "code",
      "source": [
        "import pickle\n",
        "\n",
        "def save_model(model, filename):\n",
        "  with open(f'{filename}.pkl', 'wb') as f:\n",
        "    pickle.dump(model, f)\n",
        "  \n",
        "  print(f'Model saved to {filename}.pkl!')"
      ],
      "metadata": {
        "id": "VZdsojRHnvo3"
      },
      "execution_count": 41,
      "outputs": []
    },
    {
      "cell_type": "code",
      "source": [
        "save_model(model, 'sohamn')"
      ],
      "metadata": {
        "colab": {
          "base_uri": "https://localhost:8080/"
        },
        "id": "s6Txs08X5bzw",
        "outputId": "7956c31d-37ca-4731-e4e6-b42c4073a7bc"
      },
      "execution_count": 42,
      "outputs": [
        {
          "output_type": "stream",
          "name": "stdout",
          "text": [
            "Model saved to sohamn.pkl!\n"
          ]
        }
      ]
    }
  ]
}